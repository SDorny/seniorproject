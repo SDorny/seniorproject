{
 "cells": [
  {
   "cell_type": "markdown",
   "metadata": {
    "application/vnd.databricks.v1+cell": {
     "cellMetadata": {
      "byteLimit": 2048000,
      "rowLimit": 10000
     },
     "inputWidgets": {},
     "nuid": "46ad23a2-6014-4649-aef9-5e1220323977",
     "showTitle": false,
     "tableResultSettingsMap": {},
     "title": ""
    }
   },
   "source": [
    "# Silver to Gold\n",
    "### Overview\n",
    "This notebook focuses on creating business level aggregate views. These are common questions business users may have and would like to visualize quickly.\n",
    "Using the keywords `CREATE OR REFRESH MATERIALIZED VIEW` creates and manages the views."
   ]
  },
  {
   "cell_type": "code",
   "execution_count": 0,
   "metadata": {
    "application/vnd.databricks.v1+cell": {
     "cellMetadata": {
      "byteLimit": 2048000,
      "rowLimit": 10000
     },
     "inputWidgets": {},
     "nuid": "760479d7-02f4-4a32-b99b-236c81f8af38",
     "showTitle": true,
     "tableResultSettingsMap": {},
     "title": "Sales by Product"
    }
   },
   "outputs": [],
   "source": [
    "CREATE OR REFRESH MATERIALIZED VIEW product_sales\n",
    "AS\n",
    "SELECT \n",
    "    p.product_id,\n",
    "    p.Name AS ProductName,\n",
    "    p.list_price,\n",
    "    COUNT(sod.sales_order_id) AS NumberOfOrders,\n",
    "    SUM(sod.order_qty) AS TotalQuantitySold,\n",
    "    SUM(sod.line_total) AS TotalRevenue\n",
    "FROM \n",
    "    adventureworks.silver.product p\n",
    "JOIN \n",
    "    adventureworks.silver.salesorderdetail sod ON p.product_id = sod.product_id\n",
    "GROUP BY \n",
    "    p.product_id, p.Name, p.list_price\n",
    "ORDER BY \n",
    "    TotalRevenue DESC\n",
    "LIMIT 10;"
   ]
  },
  {
   "cell_type": "code",
   "execution_count": 0,
   "metadata": {
    "application/vnd.databricks.v1+cell": {
     "cellMetadata": {
      "byteLimit": 2048000,
      "rowLimit": 10000
     },
     "inputWidgets": {},
     "nuid": "1e3fe816-6bd1-4483-bf71-25640490eec6",
     "showTitle": true,
     "tableResultSettingsMap": {},
     "title": "Customer Purchase Analysis"
    }
   },
   "outputs": [],
   "source": [
    "CREATE OR REFRESH MATERIALIZED VIEW customer_purchase\n",
    "AS\n",
    "SELECT \n",
    "    c.customer_id,\n",
    "    c.first_name || ' ' || c.last_name AS CustomerName,\n",
    "    COUNT(soh.sales_order_id) AS NumberOfOrders,\n",
    "    SUM(soh.total_due) AS TotalSpent\n",
    "FROM \n",
    "    adventureworks.silver.customer c\n",
    "JOIN \n",
    "    adventureworks.silver.salesorderheader soh ON c.customer_id = soh.customer_id\n",
    "GROUP BY \n",
    "    c.customer_id, c.first_name, c.last_name\n",
    "ORDER BY \n",
    "    TotalSpent DESC;"
   ]
  },
  {
   "cell_type": "code",
   "execution_count": 0,
   "metadata": {
    "application/vnd.databricks.v1+cell": {
     "cellMetadata": {
      "byteLimit": 2048000,
      "rowLimit": 10000
     },
     "inputWidgets": {},
     "nuid": "bc5049e9-99fc-44da-8beb-1865a0c3a3a5",
     "showTitle": true,
     "tableResultSettingsMap": {},
     "title": "Segment Customers by Purchase Value"
    }
   },
   "outputs": [],
   "source": [
    "CREATE OR REFRESH MATERIALIZED VIEW customers_by_purchase\n",
    "AS\n",
    "WITH CustomerPurchases AS (\n",
    "    SELECT\n",
    "        c.customer_id,\n",
    "        c.first_name + ' ' + c.last_name AS CustomerName,\n",
    "        SUM(soh.total_due) AS TotalSpent\n",
    "    FROM\n",
    "        adventureworks.silver.Customer c\n",
    "    JOIN\n",
    "        adventureworks.silver.SalesOrderHeader soh ON c.customer_id = soh.customer_id\n",
    "    GROUP BY\n",
    "        c.customer_id, c.first_name, c.last_name\n",
    ")\n",
    "SELECT\n",
    "    CASE\n",
    "        WHEN TotalSpent >= 10000 THEN 'High Value'\n",
    "        WHEN TotalSpent >= 5000 THEN 'Medium Value'\n",
    "        ELSE 'Low Value'\n",
    "    END AS CustomerSegment,\n",
    "    COUNT(*) AS NumberOfCustomers,\n",
    "    AVG(TotalSpent) AS AverageSpend,\n",
    "    SUM(TotalSpent) AS TotalRevenue\n",
    "FROM\n",
    "    CustomerPurchases\n",
    "GROUP BY\n",
    "    CASE\n",
    "        WHEN TotalSpent >= 10000 THEN 'High Value'\n",
    "        WHEN TotalSpent >= 5000 THEN 'Medium Value'\n",
    "        ELSE 'Low Value'\n",
    "    END\n",
    "ORDER BY\n",
    "    AVG(TotalSpent) DESC;"
   ]
  },
  {
   "cell_type": "code",
   "execution_count": 0,
   "metadata": {
    "application/vnd.databricks.v1+cell": {
     "cellMetadata": {
      "byteLimit": 2048000,
      "rowLimit": 10000
     },
     "inputWidgets": {},
     "nuid": "df9ab4f1-6287-4d6e-ab8c-af8d0c171b3c",
     "showTitle": true,
     "tableResultSettingsMap": {},
     "title": "Sales Performance by Product Category"
    }
   },
   "outputs": [],
   "source": [
    "CREATE OR REFRESH MATERIALIZED VIEW sales_by_category\n",
    "AS\n",
    "SELECT \n",
    "    pc.Name AS CategoryName,\n",
    "    COUNT(DISTINCT p.product_id) AS NumberOfProducts,\n",
    "    SUM(sod.order_qty) AS TotalQuantitySold,\n",
    "    SUM(sod.line_total) AS TotalRevenue,\n",
    "    AVG(sod.line_total) AS AverageOrderValue\n",
    "FROM \n",
    "    adventureworks.silver.ProductCategory pc\n",
    "JOIN \n",
    "    adventureworks.silver.Product p ON pc.product_category_id = p.product_category_id\n",
    "JOIN \n",
    "    adventureworks.silver.SalesOrderDetail sod ON p.product_id = sod.product_id\n",
    "GROUP BY \n",
    "    pc.Name\n",
    "ORDER BY \n",
    "    TotalRevenue DESC;"
   ]
  },
  {
   "cell_type": "code",
   "execution_count": 0,
   "metadata": {
    "application/vnd.databricks.v1+cell": {
     "cellMetadata": {
      "byteLimit": 2048000,
      "rowLimit": 10000
     },
     "inputWidgets": {},
     "nuid": "1ce53f12-8b8b-4004-9251-77c574835bae",
     "showTitle": true,
     "tableResultSettingsMap": {},
     "title": "Monthly Sales Trends"
    }
   },
   "outputs": [],
   "source": [
    "CREATE OR REFRESH MATERIALIZED VIEW monthly_sales\n",
    "AS\n",
    "SELECT\n",
    "    YEAR(soh.order_date) AS OrderYear,\n",
    "    MONTH(soh.order_date) AS OrderMonth,\n",
    "    COUNT(DISTINCT soh.sales_order_id) AS NumberOfOrders,\n",
    "    COUNT(DISTINCT soh.customer_id) AS NumberOfCustomers,\n",
    "    SUM(soh.total_due) AS MonthlyRevenue,\n",
    "    SUM(soh.total_due)/COUNT(DISTINCT soh.sales_order_id) AS AverageOrderValue\n",
    "FROM\n",
    "    adventureworks.silver.SalesOrderHeader soh\n",
    "GROUP BY\n",
    "    YEAR(soh.order_date),\n",
    "    MONTH(soh.order_date)\n",
    "ORDER BY\n",
    "    OrderYear, OrderMonth;"
   ]
  },
  {
   "cell_type": "code",
   "execution_count": 0,
   "metadata": {
    "application/vnd.databricks.v1+cell": {
     "cellMetadata": {
      "byteLimit": 2048000,
      "rowLimit": 10000
     },
     "inputWidgets": {},
     "nuid": "8e0554a6-d294-4842-8a16-2b949f4c9abb",
     "showTitle": true,
     "tableResultSettingsMap": {},
     "title": "Products Purchased Together"
    }
   },
   "outputs": [],
   "source": [
    "CREATE OR REFRESH MATERIALIZED VIEW products_purchased_together\n",
    "AS\n",
    "SELECT\n",
    "    p1.product_id AS Product1ID,\n",
    "    p1.Name AS Product1Name,\n",
    "    p2.product_id AS Product2ID,\n",
    "    p2.Name AS Product2Name,\n",
    "    COUNT(*) AS PurchasedTogetherCount\n",
    "FROM\n",
    "    adventureworks.silver.SalesOrderDetail sod1\n",
    "JOIN\n",
    "    adventureworks.silver.SalesOrderDetail sod2 ON sod1.sales_order_id = sod2.sales_order_id\n",
    "    AND sod1.product_id < sod2.product_id\n",
    "JOIN\n",
    "    adventureworks.silver.Product p1 ON sod1.product_id = p1.product_id\n",
    "JOIN\n",
    "    adventureworks.silver.Product p2 ON sod2.product_id = p2.product_id\n",
    "GROUP BY\n",
    "    p1.product_id, p1.Name, p2.product_id, p2.Name\n",
    "HAVING\n",
    "    COUNT(*) > 5\n",
    "ORDER BY\n",
    "    PurchasedTogetherCount DESC;"
   ]
  },
  {
   "cell_type": "code",
   "execution_count": 0,
   "metadata": {
    "application/vnd.databricks.v1+cell": {
     "cellMetadata": {
      "byteLimit": 2048000,
      "rowLimit": 10000
     },
     "inputWidgets": {},
     "nuid": "3df8569a-73c0-4f33-bf62-8087bade4ad0",
     "showTitle": true,
     "tableResultSettingsMap": {},
     "title": "Sales by Region"
    }
   },
   "outputs": [],
   "source": [
    "CREATE OR REFRESH MATERIALIZED VIEW sales_by_region\n",
    "AS\n",
    "SELECT\n",
    "    a.state_province,\n",
    "    a.country_region,\n",
    "    COUNT(DISTINCT soh.sales_order_id) AS NumberOfOrders,\n",
    "    COUNT(DISTINCT c.customer_id) AS NumberOfCustomers,\n",
    "    SUM(soh.total_due) AS TotalRevenue,\n",
    "    SUM(soh.total_due)/COUNT(DISTINCT c.customer_id) AS AverageRevenuePerCustomer\n",
    "FROM\n",
    "    adventureworks.silver.Address a\n",
    "JOIN\n",
    "    adventureworks.silver.CustomerAddress ca ON a.address_id = ca.address_id\n",
    "JOIN\n",
    "    adventureworks.silver.Customer c ON ca.customer_id = c.customer_id\n",
    "JOIN\n",
    "    adventureworks.silver.SalesOrderHeader soh ON c.customer_id = soh.customer_id\n",
    "GROUP BY\n",
    "    a.state_province, a.country_region\n",
    "ORDER BY\n",
    "    TotalRevenue DESC;"
   ]
  }
 ],
 "metadata": {
  "application/vnd.databricks.v1+notebook": {
   "computePreferences": null,
   "dashboards": [],
   "environmentMetadata": {
    "base_environment": "",
    "environment_version": "2"
   },
   "language": "sql",
   "notebookMetadata": {
    "pythonIndentUnit": 4
   },
   "notebookName": "NEW: Silver to Gold",
   "widgets": {}
  },
  "language_info": {
   "name": "sql"
  }
 },
 "nbformat": 4,
 "nbformat_minor": 0
}