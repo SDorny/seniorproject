{
 "cells": [
  {
   "cell_type": "markdown",
   "metadata": {
    "application/vnd.databricks.v1+cell": {
     "cellMetadata": {
      "byteLimit": 2048000,
      "rowLimit": 10000
     },
     "inputWidgets": {},
     "nuid": "589b3e21-e254-4ae3-823b-448d0d775657",
     "showTitle": false,
     "tableResultSettingsMap": {},
     "title": ""
    }
   },
   "source": [
    "# Bronze to Silver\n",
    "### Overview\n",
    "This notebook is responsible for loading the data from the bronze DLT's, applying transformations, checking constraints, and loading the transformed data into silver tables.\n",
    "\n",
    "### Process\n",
    "- Function definitions\n",
    "- Define silver configurations\n",
    "- Create silver DLT's Function\n",
    "- Loop through silver configuration and load data to tables."
   ]
  },
  {
   "cell_type": "code",
   "execution_count": 0,
   "metadata": {
    "application/vnd.databricks.v1+cell": {
     "cellMetadata": {
      "byteLimit": 2048000,
      "rowLimit": 10000
     },
     "inputWidgets": {},
     "nuid": "a370711f-5171-4448-9ba7-ab53d46c6b07",
     "showTitle": true,
     "tableResultSettingsMap": {},
     "title": "Imports"
    }
   },
   "outputs": [],
   "source": [
    "import re\n",
    "from pyspark.sql.functions import col, to_timestamp, to_date\n",
    "import dlt\n",
    "from pyspark.sql import DataFrame\n",
    "from pyspark.sql import functions as F"
   ]
  },
  {
   "cell_type": "markdown",
   "metadata": {
    "application/vnd.databricks.v1+cell": {
     "cellMetadata": {
      "byteLimit": 2048000,
      "rowLimit": 10000
     },
     "inputWidgets": {},
     "nuid": "6247975c-b2f0-4e5d-88c3-b68e84198320",
     "showTitle": false,
     "tableResultSettingsMap": {},
     "title": ""
    }
   },
   "source": [
    "## 1. Function Definitions\n",
    "Here, we will define our transformation functions which we will call later on.\n",
    "\n",
    "- `camel_to_snake`: Converts a string from camelCase to snake_case format.\n",
    "- `convert_columns_to_snake_case`: Converts all column names in a DataFrame from camelCase to snake_case.\n",
    "- `convert_date_columns_to_date`: Identifies and converts all columns with \"date\" in their name to date format."
   ]
  },
  {
   "cell_type": "code",
   "execution_count": 0,
   "metadata": {
    "application/vnd.databricks.v1+cell": {
     "cellMetadata": {
      "byteLimit": 2048000,
      "rowLimit": 10000
     },
     "inputWidgets": {},
     "nuid": "d0c88578-5646-4d3f-a54d-57706d2f507a",
     "showTitle": true,
     "tableResultSettingsMap": {},
     "title": "camel to snake"
    }
   },
   "outputs": [],
   "source": [
    "def camel_to_snake(name):\n",
    "    s1 = re.sub('([a-z0-9])([A-Z])', r'\\1_\\2', name)\n",
    "    return s1.lower()"
   ]
  },
  {
   "cell_type": "code",
   "execution_count": 0,
   "metadata": {
    "application/vnd.databricks.v1+cell": {
     "cellMetadata": {
      "byteLimit": 2048000,
      "rowLimit": 10000
     },
     "inputWidgets": {},
     "nuid": "8f2641c1-19bd-48d3-93ae-5d240aee1700",
     "showTitle": false,
     "tableResultSettingsMap": {},
     "title": ""
    }
   },
   "outputs": [],
   "source": [
    "def convert_columns_to_snake_case(df):\n",
    "    for col_name in df.columns:\n",
    "        df = df.withColumnRenamed(col_name, camel_to_snake(col_name))\n",
    "    return df"
   ]
  },
  {
   "cell_type": "code",
   "execution_count": 0,
   "metadata": {
    "application/vnd.databricks.v1+cell": {
     "cellMetadata": {
      "byteLimit": 2048000,
      "rowLimit": 10000
     },
     "inputWidgets": {},
     "nuid": "ce8b8f05-1f69-452e-9a82-e31562ad195f",
     "showTitle": false,
     "tableResultSettingsMap": {},
     "title": ""
    }
   },
   "outputs": [],
   "source": [
    "def convert_date_columns_to_date(df):\n",
    "    date_columns = [col_name for col_name in df.columns if \"date\" in col_name.lower()]\n",
    "    for col_name in date_columns:\n",
    "        df = df.withColumn(col_name, to_date(col(col_name), \"yyyy-MM-dd'T'HH:mm:ss.SSSXXX\"))\n",
    "    return df\n"
   ]
  },
  {
   "cell_type": "markdown",
   "metadata": {
    "application/vnd.databricks.v1+cell": {
     "cellMetadata": {
      "byteLimit": 2048000,
      "rowLimit": 10000
     },
     "inputWidgets": {},
     "nuid": "27988cad-77ad-4471-92db-85b7c5210551",
     "showTitle": false,
     "tableResultSettingsMap": {},
     "title": ""
    }
   },
   "source": [
    "## 2. Silver Table Configurations\n",
    "In the code below, we are identifying which columns we would like to exclude from each table, the transformations we would like to apply, and table specific constraints."
   ]
  },
  {
   "cell_type": "code",
   "execution_count": 0,
   "metadata": {
    "application/vnd.databricks.v1+cell": {
     "cellMetadata": {
      "byteLimit": 2048000,
      "rowLimit": 10000
     },
     "inputWidgets": {},
     "nuid": "6f12f1ae-7911-4d10-85b1-f7845635b33c",
     "showTitle": true,
     "tableResultSettingsMap": {},
     "title": "Constraints"
    }
   },
   "outputs": [],
   "source": [
    "# Define the common exclusion columns and transformations globally\n",
    "COMMON_EXCLUDE_COLUMNS = [\"_rescued_data\", \"ingestion_time\", \"source_file\"]\n",
    "COMMON_TRANSFORMATIONS = [convert_columns_to_snake_case, convert_date_columns_to_date]\n",
    "\n",
    "silver_tables_config = {\n",
    "    \"adventureworks.silver.address\": {           \n",
    "        \"bronze_table\": \"adventureworks.bronze.address\",\n",
    "        \"expectations\": {\n",
    "            \"address_id\": \"address_id IS NOT NULL\"\n",
    "        }\n",
    "    },\n",
    "    \"adventureworks.silver.customer\": { \n",
    "        \"bronze_table\": \"adventureworks.bronze.customer\",\n",
    "        \"expectations\": {\n",
    "            \"customer_id\": \"customer_id IS NOT NULL\",\n",
    "            \"modified_date\": \"modified_date > '2005-07-01'\"\n",
    "        }\n",
    "    },\n",
    "    \"adventureworks.silver.customeraddress\": {\n",
    "        \"bronze_table\": \"adventureworks.bronze.customeraddress\",\n",
    "        \"expectations\": {\n",
    "            \"customer_id\": \"customer_id IS NOT NULL\",\n",
    "            \"address_id\": \"address_id IS NOT NULL\"\n",
    "        }\n",
    "    },\n",
    "    \"adventureworks.silver.product\": {\n",
    "        \"bronze_table\": \"adventureworks.bronze.product\",\n",
    "        \"expectations\": {\n",
    "            \"product_id\": \"product_id IS NOT NULL\",\n",
    "            \"product_number\": \"product_number IS NOT NULL\"\n",
    "        }\n",
    "    },\n",
    "    \"adventureworks.silver.productcategory\": {\n",
    "        \"bronze_table\": \"adventureworks.bronze.productcategory\",\n",
    "        \"expectations\": {\n",
    "            \"product_category_id\": \"product_category_id IS NOT NULL\",\n",
    "            \"name\": \"name IS NOT NULL\"\n",
    "        }\n",
    "    },\n",
    "    \"adventureworks.silver.productdescription\": {\n",
    "        \"bronze_table\": \"adventureworks.bronze.productdescription\",\n",
    "        \"expectations\": {\n",
    "            \"product_description_id\": \"product_description_id IS NOT NULL\"\n",
    "        }\n",
    "    },\n",
    "    \"adventureworks.silver.productmodel\": {\n",
    "        \"bronze_table\": \"adventureworks.bronze.productmodel\",\n",
    "        \"expectations\": {\n",
    "            \"product_model_id\": \"product_model_id IS NOT NULL\",\n",
    "            \"name\": \"name IS NOT NULL\"\n",
    "        }\n",
    "    },\n",
    "    \"adventureworks.silver.productmodelproductdescription\": {\n",
    "        \"bronze_table\": \"adventureworks.bronze.productmodelproductdescription\",\n",
    "        \"expectations\": {\n",
    "            \"product_model_id\": \"product_model_id IS NOT NULL\",\n",
    "            \"product_description_id\": \"product_description_id IS NOT NULL\"\n",
    "        }\n",
    "    },\n",
    "    \"adventureworks.silver.salesorderdetail\": {\n",
    "        \"bronze_table\": \"adventureworks.bronze.salesorderdetail\",\n",
    "        \"expectations\": {\n",
    "            \"sales_order_id\": \"sales_order_id IS NOT NULL\",\n",
    "            \"sales_order_detail_id\": \"sales_order_detail_id IS NOT NULL\",\n",
    "            \"product_id\": \"product_id IS NOT NULL\"\n",
    "        }\n",
    "    },\n",
    "    \"adventureworks.silver.salesorderheader\": {\n",
    "        \"bronze_table\": \"adventureworks.bronze.salesorderheader\",\n",
    "        \"expectations\": {\n",
    "            \"sales_order_id\": \"sales_order_id IS NOT NULL\",\n",
    "            \"customer_id\": \"customer_id IS NOT NULL\",\n",
    "            \"order_date\": \"order_date IS NOT NULL\"\n",
    "        }\n",
    "    }\n",
    "}\n"
   ]
  },
  {
   "cell_type": "markdown",
   "metadata": {
    "application/vnd.databricks.v1+cell": {
     "cellMetadata": {},
     "inputWidgets": {},
     "nuid": "3c78d8af-36c7-4609-9904-90cea139610d",
     "showTitle": false,
     "tableResultSettingsMap": {},
     "title": ""
    }
   },
   "source": [
    "### 3. Creating Silver DLT Tables\n",
    "`create_silver_table` dynamically creates DLT's for each table in the silver schema. The main difference from the bronze tables are the constraints (`@dlt.expect_all_or_drop`) and the transformations in the `transform_data()` function."
   ]
  },
  {
   "cell_type": "code",
   "execution_count": 0,
   "metadata": {
    "application/vnd.databricks.v1+cell": {
     "cellMetadata": {
      "byteLimit": 2048000,
      "rowLimit": 10000
     },
     "inputWidgets": {},
     "nuid": "dc40686f-80b1-4869-bfe4-5c51b3b683ee",
     "showTitle": false,
     "tableResultSettingsMap": {},
     "title": ""
    }
   },
   "outputs": [],
   "source": [
    "# Function to dynamically create DLT tables for Silver layer\n",
    "def create_silver_table(table_name, config):\n",
    "    bronze_table_name = config[\"bronze_table\"]\n",
    "    table_expectations = config.get(\"expectations\", {})\n",
    "    \n",
    "    @dlt.table(\n",
    "        name=table_name,\n",
    "        comment=\"Streaming Silver table from Bronze\",\n",
    "        table_properties={\"quality\": \"silver\"}\n",
    "    )\n",
    "    @dlt.expect_all_or_drop(table_expectations)\n",
    "    def transform_data():\n",
    "        # Read the streaming bronze table\n",
    "        df = spark.readStream.table(bronze_table_name)\n",
    "\n",
    "        # Drop excluded columns (using the global list)\n",
    "        df = df.drop(*COMMON_EXCLUDE_COLUMNS)\n",
    "\n",
    "        # Apply transformations (using the global list)\n",
    "        for transform in COMMON_TRANSFORMATIONS:\n",
    "            df = transform(df)\n",
    "\n",
    "        return df"
   ]
  },
  {
   "cell_type": "markdown",
   "metadata": {
    "application/vnd.databricks.v1+cell": {
     "cellMetadata": {},
     "inputWidgets": {},
     "nuid": "9f538302-a9e4-48a5-83f0-2a0cee17c475",
     "showTitle": false,
     "tableResultSettingsMap": {},
     "title": ""
    }
   },
   "source": [
    "## 4. Loading Data to Silver Tables\n",
    "Following the same process as before, this loop will iterate through the silver_tables config and create tables and configure them."
   ]
  },
  {
   "cell_type": "code",
   "execution_count": 0,
   "metadata": {
    "application/vnd.databricks.v1+cell": {
     "cellMetadata": {
      "byteLimit": 2048000,
      "rowLimit": 10000
     },
     "inputWidgets": {},
     "nuid": "b632b574-f810-4737-aa5e-f7a2889dd859",
     "showTitle": false,
     "tableResultSettingsMap": {},
     "title": ""
    }
   },
   "outputs": [],
   "source": [
    "# Loop through the dictionary to create silver tables\n",
    "for table_name, config in silver_tables_config.items():\n",
    "    create_silver_table(table_name, config)"
   ]
  }
 ],
 "metadata": {
  "application/vnd.databricks.v1+notebook": {
   "computePreferences": null,
   "dashboards": [],
   "environmentMetadata": {
    "base_environment": "",
    "environment_version": "2"
   },
   "language": "python",
   "notebookMetadata": {
    "pythonIndentUnit": 4
   },
   "notebookName": "NEW: Bronze to Silver",
   "widgets": {}
  },
  "language_info": {
   "name": "python"
  }
 },
 "nbformat": 4,
 "nbformat_minor": 0
}