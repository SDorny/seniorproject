{
 "cells": [
  {
   "cell_type": "markdown",
   "metadata": {
    "application/vnd.databricks.v1+cell": {
     "cellMetadata": {
      "byteLimit": 2048000,
      "rowLimit": 10000
     },
     "inputWidgets": {},
     "nuid": "fc1ee0e7-1f00-4b71-bf63-a62f72fc36f6",
     "showTitle": false,
     "tableResultSettingsMap": {},
     "title": ""
    }
   },
   "source": [
    "# Storage to Bronze Pipeline Documentation\n",
    "### Overview\n",
    "This notebook is responsible for loading raw data from the source (Azure Data Lake Storage) into the Bronze layer using Delta Live Tables (DLT). \n",
    "\n",
    "### Process\n",
    "- Authenticate to access data in ADLS\n",
    "- Configure bronze layer dictionary\n",
    "- Create DLT tables function\n",
    "- Kick off function to loop through dictionary and create DLT tables"
   ]
  },
  {
   "cell_type": "markdown",
   "metadata": {
    "application/vnd.databricks.v1+cell": {
     "cellMetadata": {
      "byteLimit": 2048000,
      "rowLimit": 10000
     },
     "inputWidgets": {},
     "nuid": "112a2d03-b108-4784-b04c-b9bbfbb41514",
     "showTitle": false,
     "tableResultSettingsMap": {},
     "title": ""
    }
   },
   "source": [
    "## 1. Authenticate  \n",
    "The following code authenticates access to the Azure Data Lake Storage (ADLS) using a stored secret in Azure Key Vault.\n",
    "\n",
    "- `storage_account_name`: Name of the Azure storage account.\n",
    "- `secret_scope`: The secret scope from Azure Key Vault.\n",
    "- `secret_key`: The key to access the storage account.  \n",
    "\n",
    "This configuration allows us to securely access the storage account and load data."
   ]
  },
  {
   "cell_type": "code",
   "execution_count": 0,
   "metadata": {
    "application/vnd.databricks.v1+cell": {
     "cellMetadata": {
      "byteLimit": 2048000,
      "rowLimit": 10000
     },
     "inputWidgets": {},
     "nuid": "019528b5-ff7c-408e-b887-e356852ca218",
     "showTitle": false,
     "tableResultSettingsMap": {},
     "title": ""
    }
   },
   "outputs": [],
   "source": [
    "# Define variables for storage authentication\n",
    "storage_account_name = \"dornystorage\"\n",
    "secret_scope = \"dorny-key-vault\"\n",
    "secret_key = \"storage\"\n",
    "\n",
    "# Run this to set authentication\n",
    "spark.conf.set(\n",
    "    f\"fs.azure.account.key.{storage_account_name}.dfs.core.windows.net\",\n",
    "    dbutils.secrets.get(scope=secret_scope, key=secret_key))\n"
   ]
  },
  {
   "cell_type": "markdown",
   "metadata": {
    "application/vnd.databricks.v1+cell": {
     "cellMetadata": {
      "byteLimit": 2048000,
      "rowLimit": 10000
     },
     "inputWidgets": {},
     "nuid": "bce387dc-aece-4bae-b825-ae95d2d3464a",
     "showTitle": false,
     "tableResultSettingsMap": {},
     "title": ""
    }
   },
   "source": [
    "## 2. Bronze Layer Configuration\n",
    "The Bronze layer is used to store raw, untransformed data. This section of the code defines the base path to the Bronze layer and sets up a dictionary with table configurations that specify the folder structure for each table in the Bronze layer.\n",
    "\n",
    "- `bronze_base_path`: The root directory in the Azure Data Lake Storage where all Bronze layer data resides.\n",
    "- `bronze_tables_config`: A dictionary mapping each table name to its corresponding folder in the Bronze layer."
   ]
  },
  {
   "cell_type": "code",
   "execution_count": 0,
   "metadata": {
    "application/vnd.databricks.v1+cell": {
     "cellMetadata": {
      "byteLimit": 2048000,
      "rowLimit": 10000
     },
     "inputWidgets": {},
     "nuid": "63fdbf97-0b20-49b8-8830-99141235dbe0",
     "showTitle": false,
     "tableResultSettingsMap": {},
     "title": ""
    }
   },
   "outputs": [],
   "source": [
    "import dlt\n",
    "from pyspark.sql.functions import *\n",
    "\n",
    "# Base path for Bronze layer\n",
    "bronze_base_path = r\"abfss://bronze@dornystorage.dfs.core.windows.net/SalesLT/\""
   ]
  },
  {
   "cell_type": "code",
   "execution_count": 0,
   "metadata": {
    "application/vnd.databricks.v1+cell": {
     "cellMetadata": {
      "byteLimit": 2048000,
      "rowLimit": 10000
     },
     "inputWidgets": {},
     "nuid": "135c36e9-9d33-4bbb-bc26-32da68c8e837",
     "showTitle": false,
     "tableResultSettingsMap": {},
     "title": ""
    }
   },
   "outputs": [],
   "source": [
    "# Dictionary to store table configurations\n",
    "bronze_tables_config = {\n",
    "    \"adventureworks.bronze.Address\": {\n",
    "        \"folder\": \"Address\"\n",
    "    },\n",
    "    \"adventureworks.bronze.Customer\": {\n",
    "        \"folder\": \"Customer\"\n",
    "    },\n",
    "    \"adventureworks.bronze.CustomerAddress\": {\n",
    "        \"folder\": \"CustomerAddress\"\n",
    "    },\n",
    "    \"adventureworks.bronze.Product\": {\n",
    "        \"folder\": \"Product\"\n",
    "    },\n",
    "    \"adventureworks.bronze.ProductCategory\": {\n",
    "        \"folder\": \"ProductCategory\"\n",
    "    },\n",
    "    \"adventureworks.bronze.ProductDescription\": {\n",
    "        \"folder\": \"ProductDescription\"\n",
    "    },\n",
    "    \"adventureworks.bronze.ProductModel\": {\n",
    "        \"folder\": \"ProductModel\"\n",
    "    },\n",
    "    \"adventureworks.bronze.ProductModelProductDescription\": {\n",
    "        \"folder\": \"ProductModelProductDescription\"\n",
    "    },\n",
    "    \"adventureworks.bronze.SalesOrderDetail\": {\n",
    "        \"folder\": \"SalesOrderDetail\"\n",
    "    },\n",
    "    \"adventureworks.bronze.SalesOrderHeader\": {\n",
    "        \"folder\": \"SalesOrderHeader\"\n",
    "    }\n",
    "}"
   ]
  },
  {
   "cell_type": "markdown",
   "metadata": {
    "application/vnd.databricks.v1+cell": {
     "cellMetadata": {},
     "inputWidgets": {},
     "nuid": "e34ed164-5fc3-4c9d-8571-0a43ea25202e",
     "showTitle": false,
     "tableResultSettingsMap": {},
     "title": ""
    }
   },
   "source": [
    "## 3. Function to Create DLT Tables\n",
    "The function create_bronze_table dynamically creates Delta Live Tables (DLT) for each table in the Bronze layer. It reads data in real-time from the specified folder, adds an ingestion timestamp, and stores the data with file path metadata.\n",
    "\n",
    "### Function Details:\n",
    "- `@dlt.table`: This decorator defines the DLT table and includes properties such as the table name, comment, and quality level. The quality is set to \"bronze\", indicating that the data is raw and untransformed.\n",
    "- `load_data()`: This function reads the data from the specified folder in the Azure Data Lake Storage (ADLS) as Parquet files, adds an ingestion timestamp, and captures the file path from which the data is ingested."
   ]
  },
  {
   "cell_type": "code",
   "execution_count": 0,
   "metadata": {
    "application/vnd.databricks.v1+cell": {
     "cellMetadata": {
      "byteLimit": 2048000,
      "rowLimit": 10000
     },
     "inputWidgets": {},
     "nuid": "2e0e0fc7-0059-4b80-bc23-35c807ca1706",
     "showTitle": false,
     "tableResultSettingsMap": {},
     "title": ""
    }
   },
   "outputs": [],
   "source": [
    "# Function to dynamically create DLT tables\n",
    "def create_bronze_table(table_name, folder):\n",
    "    @dlt.table(\n",
    "        name=table_name,\n",
    "        comment=\"Raw data from Bronze layer\",\n",
    "        table_properties={\n",
    "            \"quality\": \"bronze\",\n",
    "            \"pipelines.reset.allowed\": \"false\"}\n",
    "    )\n",
    "    def load_data():\n",
    "        table_path = f\"{bronze_base_path}{folder}/\"\n",
    "        return (\n",
    "            spark.readStream\n",
    "            .format(\"cloudFiles\")\n",
    "            .option(\"cloudFiles.format\", \"parquet\")\n",
    "            .load(table_path)\n",
    "            .withColumn(\"ingestion_time\", current_timestamp())  # Add ingestion timestamp\n",
    "            .withColumn(\"source_file\", col(\"_metadata.file_path\"))  # Use _metadata.file_path instead of input_file_name\n",
    "        )\n"
   ]
  },
  {
   "cell_type": "markdown",
   "metadata": {
    "application/vnd.databricks.v1+cell": {
     "cellMetadata": {},
     "inputWidgets": {},
     "nuid": "e4e30f04-3722-42d5-87f8-05902e6af697",
     "showTitle": false,
     "tableResultSettingsMap": {},
     "title": ""
    }
   },
   "source": [
    "## 4. Creating Tables for All Configured Data  \n",
    "The loop below iterates over the `bronze_tables_config` dictionary and calls the `create_bronze_table` function for each table, passing the table name and folder as parameters.\n",
    "This dynamically creates DLT tables for each entry in the configuration, ensuring that the data is loaded into the correct table and folder in the Bronze layer."
   ]
  },
  {
   "cell_type": "code",
   "execution_count": 0,
   "metadata": {
    "application/vnd.databricks.v1+cell": {
     "cellMetadata": {
      "byteLimit": 2048000,
      "rowLimit": 10000
     },
     "inputWidgets": {},
     "nuid": "b83a7309-3b79-4b1e-bb89-59685d86fb12",
     "showTitle": false,
     "tableResultSettingsMap": {},
     "title": ""
    }
   },
   "outputs": [
    {
     "output_type": "display_data",
     "data": {
      "text/html": [
       "\n",
       "<html>\n",
       "  <style>\n",
       "<style>\n",
       "      html {\n",
       "        font-family: -apple-system,BlinkMacSystemFont,Segoe UI,Roboto,Helvetica Neue,Arial,\n",
       "        Noto Sans,sans-serif,Apple Color Emoji,Segoe UI Emoji,Segoe UI Symbol,\n",
       "        Noto Color Emoji,FontAwesome;\n",
       "        font-size: 13;\n",
       "      }\n",
       "\n",
       "      .ansiout {\n",
       "        padding-bottom: 8px;\n",
       "      }\n",
       "\n",
       "      .createPipeline {\n",
       "        background-color: rgb(34, 114, 180);\n",
       "        color: white;\n",
       "        text-decoration: none;\n",
       "        padding: 4px 12px;\n",
       "        border-radius: 4px;\n",
       "        display: inline-block;\n",
       "      }\n",
       "\n",
       "      .createPipeline:hover {\n",
       "        background-color: #195487;\n",
       "      }\n",
       "\n",
       "      .tag {\n",
       "        border: none;\n",
       "        color: rgb(31, 39, 45);\n",
       "        padding: 2px 4px;\n",
       "        font-weight: 600;\n",
       "        background-color: rgba(93, 114, 131, 0.08);\n",
       "        border-radius: 4px;\n",
       "        margin-right: 0;\n",
       "        display: inline-block;\n",
       "        cursor: default;\n",
       "      }\n",
       "\n",
       "      table {\n",
       "        border-collapse: collapse;\n",
       "        font-size: 13px;\n",
       "      }\n",
       "\n",
       "      th {\n",
       "        text-align: left;\n",
       "        background-color: #F2F5F7;\n",
       "        padding-left: 8px;\n",
       "        padding-right: 8px;\n",
       "      }\n",
       "\n",
       "      tr {\n",
       "        border-bottom: solid;\n",
       "        border-bottom-color: #CDDAE5;\n",
       "        border-bottom-width: 1px;\n",
       "      }\n",
       "\n",
       "      td {\n",
       "        padding-left: 8px;\n",
       "        padding-right: 8px;\n",
       "      }\n",
       "\n",
       "      .dlt-label {\n",
       "        font-weight: bold;\n",
       "      }\n",
       "\n",
       "      ul {\n",
       "        list-style: circle;\n",
       "        padding-inline-start: 12px;\n",
       "      }\n",
       "\n",
       "      li {\n",
       "        padding-bottom: 4px;\n",
       "      }\n",
       "</style></style>\n",
       "  \n",
       "<div class=\"ansiout\">\n",
       "<span class='tag'>adventureworks.bronze.SalesOrderHeader</span> is defined as a\n",
       "<span class=\"dlt-label\">Delta Live Tables</span> dataset\n",
       " with schema: \n",
       "</div>\n",
       "\n",
       "  \n",
       "<div class=\"ansiout\">\n",
       "   <table>\n",
       "     <tbody>\n",
       "       <tr>\n",
       "         <th>Name</th>\n",
       "         <th>Type</th>\n",
       "       </tr>\n",
       "       \n",
       "<tr>\n",
       "   <td>SalesOrderID</td>\n",
       "   <td>int</td>\n",
       "</tr>\n",
       "\n",
       "<tr>\n",
       "   <td>RevisionNumber</td>\n",
       "   <td>int</td>\n",
       "</tr>\n",
       "\n",
       "<tr>\n",
       "   <td>OrderDate</td>\n",
       "   <td>timestamp</td>\n",
       "</tr>\n",
       "\n",
       "<tr>\n",
       "   <td>DueDate</td>\n",
       "   <td>timestamp</td>\n",
       "</tr>\n",
       "\n",
       "<tr>\n",
       "   <td>ShipDate</td>\n",
       "   <td>timestamp</td>\n",
       "</tr>\n",
       "\n",
       "<tr>\n",
       "   <td>Status</td>\n",
       "   <td>int</td>\n",
       "</tr>\n",
       "\n",
       "<tr>\n",
       "   <td>OnlineOrderFlag</td>\n",
       "   <td>boolean</td>\n",
       "</tr>\n",
       "\n",
       "<tr>\n",
       "   <td>SalesOrderNumber</td>\n",
       "   <td>string</td>\n",
       "</tr>\n",
       "\n",
       "<tr>\n",
       "   <td>PurchaseOrderNumber</td>\n",
       "   <td>string</td>\n",
       "</tr>\n",
       "\n",
       "<tr>\n",
       "   <td>AccountNumber</td>\n",
       "   <td>string</td>\n",
       "</tr>\n",
       "\n",
       "<tr>\n",
       "   <td>CustomerID</td>\n",
       "   <td>int</td>\n",
       "</tr>\n",
       "\n",
       "<tr>\n",
       "   <td>ShipToAddressID</td>\n",
       "   <td>int</td>\n",
       "</tr>\n",
       "\n",
       "<tr>\n",
       "   <td>BillToAddressID</td>\n",
       "   <td>int</td>\n",
       "</tr>\n",
       "\n",
       "<tr>\n",
       "   <td>ShipMethod</td>\n",
       "   <td>string</td>\n",
       "</tr>\n",
       "\n",
       "<tr>\n",
       "   <td>CreditCardApprovalCode</td>\n",
       "   <td>string</td>\n",
       "</tr>\n",
       "\n",
       "<tr>\n",
       "   <td>SubTotal</td>\n",
       "   <td>decimal(19,4)</td>\n",
       "</tr>\n",
       "\n",
       "<tr>\n",
       "   <td>TaxAmt</td>\n",
       "   <td>decimal(19,4)</td>\n",
       "</tr>\n",
       "\n",
       "<tr>\n",
       "   <td>Freight</td>\n",
       "   <td>decimal(19,4)</td>\n",
       "</tr>\n",
       "\n",
       "<tr>\n",
       "   <td>TotalDue</td>\n",
       "   <td>decimal(19,4)</td>\n",
       "</tr>\n",
       "\n",
       "<tr>\n",
       "   <td>Comment</td>\n",
       "   <td>string</td>\n",
       "</tr>\n",
       "\n",
       "<tr>\n",
       "   <td>rowguid</td>\n",
       "   <td>string</td>\n",
       "</tr>\n",
       "\n",
       "<tr>\n",
       "   <td>ModifiedDate</td>\n",
       "   <td>timestamp</td>\n",
       "</tr>\n",
       "\n",
       "<tr>\n",
       "   <td>_rescued_data</td>\n",
       "   <td>string</td>\n",
       "</tr>\n",
       "\n",
       "<tr>\n",
       "   <td>ingestion_time</td>\n",
       "   <td>timestamp</td>\n",
       "</tr>\n",
       "\n",
       "<tr>\n",
       "   <td>source_file</td>\n",
       "   <td>string</td>\n",
       "</tr>\n",
       "     </tbody>\n",
       "   </table>\n",
       "</div>\n",
       "\n",
       "  <div class =\"ansiout\">\n",
       "    To populate your table you must either:\n",
       "    <ul>\n",
       "      <li>\n",
       "        Run an existing pipeline using the\n",
       "        <span class=\"dlt-label\">Delta Live Tables</span> menu\n",
       "      </li>\n",
       "      <li>\n",
       "        Create a new pipeline: <a class='createPipeline' href=\"?o=3241544402780309#joblist/pipelines/create?initialSource=%2FUsers%2Fdataengineer1012%40outlook.com%2FNEW%3A%20Bronze%20%3E%20Ingest&redirectNotebookId=2930475896226303\">Create Pipeline</a>\n",
       "      </li>\n",
       "    </ul>\n",
       "  <div>\n",
       "</html>\n"
      ]
     },
     "metadata": {},
     "output_type": "display_data"
    }
   ],
   "source": [
    "# Loop through the dictionary to create tables\n",
    "for table_name, config in bronze_tables_config.items():\n",
    "    create_bronze_table(table_name, config[\"folder\"])"
   ]
  },
  {
   "cell_type": "markdown",
   "metadata": {
    "application/vnd.databricks.v1+cell": {
     "cellMetadata": {},
     "inputWidgets": {},
     "nuid": "e2add29a-4925-429c-99a8-791c09381496",
     "showTitle": false,
     "tableResultSettingsMap": {},
     "title": ""
    }
   },
   "source": [
    "# Additional Notes\n",
    "- Ingestion Timestamp: The ingestion timestamp (ingestion_time) is added to each record to keep track of when the data was ingested into the pipeline.\n",
    "File Path: The source file path (source_file) is extracted from the metadata of the file being ingested. This can be useful for traceability and debugging purposes."
   ]
  }
 ],
 "metadata": {
  "application/vnd.databricks.v1+notebook": {
   "computePreferences": null,
   "dashboards": [],
   "environmentMetadata": {
    "base_environment": "",
    "environment_version": "2"
   },
   "language": "python",
   "notebookMetadata": {
    "pythonIndentUnit": 4
   },
   "notebookName": "NEW: Bronze > Ingest",
   "widgets": {}
  },
  "language_info": {
   "name": "python"
  }
 },
 "nbformat": 4,
 "nbformat_minor": 0
}